{
 "cells": [
  {
   "cell_type": "code",
   "execution_count": null,
   "metadata": {},
   "outputs": [
    {
     "name": "stdout",
     "output_type": "stream",
     "text": [
      "90\n",
      "0\n",
      "-45\n"
     ]
    }
   ],
   "source": [
    "import serial\n",
    "import numpy as np\n",
    "import serial.tools.list_ports\n",
    "\n",
    "### AUTOMATICALLY FIND ARDUINO PORT ###\n",
    "ports = list(serial.tools.list_ports.comports())\n",
    "for p in ports:\n",
    "    if \"Arduino\" in p[1]:\n",
    "        arduino_port = p[0]\n",
    "        \n",
    "ser = serial.Serial(arduino_port, 9600)\n",
    "\n",
    "\n",
    "### SET C ANGLE ###\n",
    "current_angle = 0\n",
    "steps_per_deg = 1600/360\n",
    "\n",
    "while True:\n",
    "    angle = input()\n",
    "    if angle == 'stop' :\n",
    "        ser.close()\n",
    "        break\n",
    "    else :\n",
    "        angle = int(angle)\n",
    "    if angle != current_angle :\n",
    "        rotation = angle - current_angle\n",
    "        rotation = float(rotation)\n",
    "        steps = int(np.round(steps_per_deg * rotation))\n",
    "        steps_byte = bytes(str(steps), 'utf-8')\n",
    "        ser.write(steps_byte)\n",
    "        #print(steps,'\\t', steps_byte)\n",
    "        current_angle = angle\n",
    "    \n"
   ]
  },
  {
   "cell_type": "code",
   "execution_count": null,
   "metadata": {},
   "outputs": [],
   "source": []
  }
 ],
 "metadata": {
  "kernelspec": {
   "display_name": "Python 3",
   "language": "python",
   "name": "python3"
  },
  "language_info": {
   "codemirror_mode": {
    "name": "ipython",
    "version": 3
   },
   "file_extension": ".py",
   "mimetype": "text/x-python",
   "name": "python",
   "nbconvert_exporter": "python",
   "pygments_lexer": "ipython3",
   "version": "3.8.5"
  }
 },
 "nbformat": 4,
 "nbformat_minor": 4
}
