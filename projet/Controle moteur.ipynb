{
 "cells": [
  {
   "cell_type": "code",
   "execution_count": 1,
   "metadata": {},
   "outputs": [
    {
     "ename": "NameError",
     "evalue": "name 'arduino_port' is not defined",
     "output_type": "error",
     "traceback": [
      "\u001b[1;31m---------------------------------------------------------------------------\u001b[0m",
      "\u001b[1;31mNameError\u001b[0m                                 Traceback (most recent call last)",
      "\u001b[1;32m<ipython-input-1-54f42860c2cd>\u001b[0m in \u001b[0;36m<module>\u001b[1;34m\u001b[0m\n\u001b[0;32m      9\u001b[0m         \u001b[0marduino_port\u001b[0m \u001b[1;33m=\u001b[0m \u001b[0mp\u001b[0m\u001b[1;33m[\u001b[0m\u001b[1;36m0\u001b[0m\u001b[1;33m]\u001b[0m\u001b[1;33m\u001b[0m\u001b[1;33m\u001b[0m\u001b[0m\n\u001b[0;32m     10\u001b[0m \u001b[1;33m\u001b[0m\u001b[0m\n\u001b[1;32m---> 11\u001b[1;33m \u001b[0mser\u001b[0m \u001b[1;33m=\u001b[0m \u001b[0mserial\u001b[0m\u001b[1;33m.\u001b[0m\u001b[0mSerial\u001b[0m\u001b[1;33m(\u001b[0m\u001b[0marduino_port\u001b[0m\u001b[1;33m,\u001b[0m \u001b[1;36m9600\u001b[0m\u001b[1;33m)\u001b[0m\u001b[1;33m\u001b[0m\u001b[1;33m\u001b[0m\u001b[0m\n\u001b[0m\u001b[0;32m     12\u001b[0m \u001b[1;33m\u001b[0m\u001b[0m\n\u001b[0;32m     13\u001b[0m \u001b[1;33m\u001b[0m\u001b[0m\n",
      "\u001b[1;31mNameError\u001b[0m: name 'arduino_port' is not defined"
     ]
    }
   ],
   "source": [
    "import serial\n",
    "import numpy as np\n",
    "import serial.tools.list_ports\n",
    "\n",
    "### AUTOMATICALLY FIND ARDUINO PORT ###\n",
    "ports = list(serial.tools.list_ports.comports())\n",
    "for p in ports:\n",
    "    if \"Arduino\" in p[1]:\n",
    "        arduino_port = p[0]\n",
    "        \n",
    "ser = serial.Serial(arduino_port, 9600)\n",
    "\n",
    "\n",
    "### SET C ANGLE ###\n",
    "current_angle = 0\n",
    "steps_per_deg = 1600/360\n",
    "\n",
    "while True:\n",
    "    angle = input()\n",
    "    if angle == 'stop' :\n",
    "        ser.close()\n",
    "        break\n",
    "    else :\n",
    "        angle = int(angle)\n",
    "    if angle != current_angle :\n",
    "        rotation = angle - current_angle\n",
    "        rotation = float(rotation)\n",
    "        steps = int(np.round(steps_per_deg * rotation))\n",
    "        steps_byte = bytes(str(steps), 'utf-8')\n",
    "        ser.write(steps_byte)\n",
    "        #print(steps,'\\t', steps_byte)\n",
    "        current_angle = angle\n",
    "    \n"
   ]
  },
  {
   "cell_type": "code",
   "execution_count": null,
   "metadata": {},
   "outputs": [],
   "source": []
  }
 ],
 "metadata": {
  "kernelspec": {
   "display_name": "Python 3",
   "language": "python",
   "name": "python3"
  },
  "language_info": {
   "codemirror_mode": {
    "name": "ipython",
    "version": 3
   },
   "file_extension": ".py",
   "mimetype": "text/x-python",
   "name": "python",
   "nbconvert_exporter": "python",
   "pygments_lexer": "ipython3",
   "version": "3.8.5"
  }
 },
 "nbformat": 4,
 "nbformat_minor": 4
}
