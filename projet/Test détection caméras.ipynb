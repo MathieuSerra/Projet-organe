{
 "cells": [
  {
   "cell_type": "code",
   "execution_count": null,
   "metadata": {},
   "outputs": [],
   "source": [
    "import win32com.client\n",
    "\n",
    "wmi = win32com.client.GetObject (\"winmgmts:\")\n",
    "for usb in wmi.InstancesOf (\"Win32_USBHub\"):\n",
    "    print(usb.DeviceId)"
   ]
  },
  {
   "cell_type": "code",
   "execution_count": null,
   "metadata": {},
   "outputs": [],
   "source": [
    "from pymf import get_MF_devices\n",
    "device_list = get_MF_devices()\n",
    "for i, device_name in enumerate(device_list):\n",
    "    print(f\"opencv_index: {i}, device_name: {device_name}\")"
   ]
  },
  {
   "cell_type": "code",
   "execution_count": 7,
   "metadata": {},
   "outputs": [
    {
     "name": "stdout",
     "output_type": "stream",
     "text": [
      "32.0\n",
      "[Error]: OpenCV(4.4.0) C:\\Users\\appveyor\\AppData\\Local\\Temp\\1\\pip-req-build-k8sx3e60\\opencv\\modules\\highgui\\src\\window.cpp:376: error: (-215:Assertion failed) size.width>0 && size.height>0 in function 'cv::imshow'\n",
      "\n",
      "[Error]: OpenCV(4.4.0) C:\\Users\\appveyor\\AppData\\Local\\Temp\\1\\pip-req-build-k8sx3e60\\opencv\\modules\\highgui\\src\\window.cpp:376: error: (-215:Assertion failed) size.width>0 && size.height>0 in function 'cv::imshow'\n",
      "\n",
      "[Error]: OpenCV(4.4.0) C:\\Users\\appveyor\\AppData\\Local\\Temp\\1\\pip-req-build-k8sx3e60\\opencv\\modules\\highgui\\src\\window.cpp:376: error: (-215:Assertion failed) size.width>0 && size.height>0 in function 'cv::imshow'\n",
      "\n",
      "[Error]: OpenCV(4.4.0) C:\\Users\\appveyor\\AppData\\Local\\Temp\\1\\pip-req-build-k8sx3e60\\opencv\\modules\\highgui\\src\\window.cpp:376: error: (-215:Assertion failed) size.width>0 && size.height>0 in function 'cv::imshow'\n",
      "\n",
      "[Error]: OpenCV(4.4.0) C:\\Users\\appveyor\\AppData\\Local\\Temp\\1\\pip-req-build-k8sx3e60\\opencv\\modules\\highgui\\src\\window.cpp:376: error: (-215:Assertion failed) size.width>0 && size.height>0 in function 'cv::imshow'\n",
      "\n",
      "None\n",
      "None\n",
      "None\n"
     ]
    }
   ],
   "source": [
    "import cv2\n",
    "indices = [0,1,2,3,4,5]\n",
    "device1 = 'None'\n",
    "device2 = 'None'\n",
    "device3 = 'None'\n",
    "for i in indices:\n",
    "    device = indices[i]\n",
    "    try :\n",
    "        cap = cv2.VideoCapture(device, cv2.CAP_DSHOW)\n",
    "        while True:\n",
    "            ret,frame=cap.read()\n",
    "            cv2.imshow('frame'+str(device),frame)\n",
    "            #if cv2.waitKey(1) == ord('q'):\n",
    "            contrast = cap.get(cv2.CAP_PROP_CONTRAST)\n",
    "            print(contrast)\n",
    "            if contrast == 5.0:\n",
    "                device1 = device\n",
    "            if contrast == 50.0:\n",
    "                device2 = device\n",
    "            if contrast == 10.0:\n",
    "                device3 = device\n",
    "            break\n",
    "        cap.release()\n",
    "        cv2.destroyAllWindows()\n",
    "    except cv2.error as error :\n",
    "        print(\"[Error]: {}\".format(error))\n",
    "\n",
    "print(device1)\n",
    "print(device2)\n",
    "print(device3)\n",
    "    \n",
    "\n"
   ]
  }
 ],
 "metadata": {
  "kernelspec": {
   "display_name": "Python 3",
   "language": "python",
   "name": "python3"
  },
  "language_info": {
   "codemirror_mode": {
    "name": "ipython",
    "version": 3
   },
   "file_extension": ".py",
   "mimetype": "text/x-python",
   "name": "python",
   "nbconvert_exporter": "python",
   "pygments_lexer": "ipython3",
   "version": "3.8.5"
  }
 },
 "nbformat": 4,
 "nbformat_minor": 4
}
